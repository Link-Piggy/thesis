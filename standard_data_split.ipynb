{
  "nbformat": 4,
  "nbformat_minor": 0,
  "metadata": {
    "colab": {
      "provenance": [],
      "machine_shape": "hm"
    },
    "kernelspec": {
      "name": "python3",
      "display_name": "Python 3"
    },
    "language_info": {
      "name": "python"
    },
    "gpuClass": "standard"
  },
  "cells": [
    {
      "cell_type": "code",
      "execution_count": 1,
      "metadata": {
        "colab": {
          "base_uri": "https://localhost:8080/"
        },
        "id": "infI96kjw8ys",
        "outputId": "e3d8fed2-982a-4068-8637-0bb7309c7b3e"
      },
      "outputs": [
        {
          "output_type": "stream",
          "name": "stdout",
          "text": [
            "Mounted at /content/drive\n"
          ]
        }
      ],
      "source": [
        "from google.colab import drive\n",
        "drive.mount('/content/drive')"
      ]
    },
    {
      "cell_type": "code",
      "source": [
        "import matplotlib.pyplot as plt\n",
        "import numpy as np\n",
        "import tensorflow as tf\n",
        "import pandas as pd\n",
        "import seaborn as sns\n",
        "import math\n",
        "import os\n",
        "from sklearn.metrics import f1_score, accuracy_score, confusion_matrix\n",
        "\n",
        "from tensorflow.keras.layers import RepeatVector, Dense, Activation, Input, LSTM, GRU, Bidirectional, Concatenate, Dot\n",
        "from tensorflow.keras.models import Model\n",
        "from tensorflow.keras.optimizers import Adam\n",
        "from tensorflow.keras.callbacks import EarlyStopping\n",
        "from tensorflow.keras import regularizers\n",
        "import tensorflow.keras.backend as K"
      ],
      "metadata": {
        "id": "eYH_5VbGxFif"
      },
      "execution_count": 2,
      "outputs": []
    },
    {
      "cell_type": "markdown",
      "source": [
        "### Build train-test split function"
      ],
      "metadata": {
        "id": "yiTl_STkNdXO"
      }
    },
    {
      "cell_type": "code",
      "source": [
        "def train_test_split(file_path, Tx, val_part, test_part):\n",
        "    assert val_part in range(10) and test_part in range(10), 'test_part and val_part should be one of the number >=0 and <=9'\n",
        "    assert val_part != test_part, 'val_part should not be equal to test_part'\n",
        "\n",
        "    df = pd.read_csv(file_path)\n",
        "    # the number of frames for the left person or the right person\n",
        "    m = int(df.shape[0]/2)\n",
        "\n",
        "    # seperate the df into left and right again in order to make sampling meaningful\n",
        "    df1 = df.iloc[:m, :]\n",
        "    df2 = df.iloc[m:, :]\n",
        "\n",
        "    # set the output df for trainset and testset\n",
        "    train_df = pd.DataFrame(columns=df.columns)\n",
        "    val_df = pd.DataFrame(columns=df.columns)\n",
        "    test_df_1 = pd.DataFrame(columns=df.columns)\n",
        "    test_df_2 = pd.DataFrame(columns=df.columns)\n",
        "\n",
        "    # generate the sampling starting index for train dataset and test dataset\n",
        "    start_index = np.arange(0, m-Tx+1, Tx)\n",
        "    test_amount = math.floor(len(start_index)/10)\n",
        "    sample_val_index = start_index[test_amount*val_part:test_amount*(val_part+1)]\n",
        "    sample_test_index = start_index[test_amount*test_part:test_amount*(test_part+1)]\n",
        "    sample_train_index = [i for i in start_index if i not in sample_val_index and i not in sample_test_index]\n",
        "\n",
        "    for a in sample_train_index:\n",
        "        train_df = pd.concat([train_df, df1.iloc[a:a+Tx, :]], ignore_index = True)\n",
        "        train_df = pd.concat([train_df, df2.iloc[a:a+Tx, :]], ignore_index = True)\n",
        "\n",
        "    for b in sample_val_index:\n",
        "        val_df = pd.concat([val_df, df1.iloc[b:b+Tx, :]], ignore_index = True)\n",
        "        val_df = pd.concat([val_df, df2.iloc[b:b+Tx, :]], ignore_index = True)\n",
        "\n",
        "    # in order to do the final prediction of two people in a frame\n",
        "    for c in sample_test_index:\n",
        "        test_df_1 = pd.concat([test_df_1, df1.iloc[c:c+Tx, :]], ignore_index = True)\n",
        "    for d in sample_test_index:\n",
        "        test_df_2 = pd.concat([test_df_2, df2.iloc[d:d+Tx, :]], ignore_index = True)\n",
        "\n",
        "\n",
        "    print('\\ntrain_df shape:', train_df.shape)\n",
        "    print('val_df shape:', val_df.shape)\n",
        "    print('test_df_1 shape:', test_df_1.shape)\n",
        "\n",
        "    return train_df, val_df, test_df_1, test_df_2"
      ],
      "metadata": {
        "id": "ZYuOoz1zxLBe"
      },
      "execution_count": 3,
      "outputs": []
    },
    {
      "cell_type": "markdown",
      "source": [
        "### Build the basic LSTM model"
      ],
      "metadata": {
        "id": "-mgibudWJg_A"
      }
    },
    {
      "cell_type": "code",
      "source": [
        "def base_model(Tx, n_x, n_a): \n",
        "    # Define the input layer and specify the shape\n",
        "    input = Input(shape=(Tx, n_x))\n",
        "    \n",
        "    # build LSTM frame with the time_step = Tx\n",
        "    all_state = LSTM(n_a, return_sequences=True)(input)\n",
        "\n",
        "    # Create empty list to append the outputs while you iterate\n",
        "    outputs = []\n",
        "    \n",
        "    # Loop over tx\n",
        "    for t in range(Tx):\n",
        "        # Apply densor to the hidden state output of LSTM_Cell\n",
        "        out = Dense(1, activation='sigmoid')(all_state[:, t, :])\n",
        "        # add the output to \"outputs\"\n",
        "        outputs.append(out)\n",
        "        \n",
        "    # Create model instance\n",
        "    model = Model(inputs=input, outputs=outputs)\n",
        "    \n",
        "    return model"
      ],
      "metadata": {
        "id": "1PkTapNAkF0S"
      },
      "execution_count": 4,
      "outputs": []
    },
    {
      "cell_type": "markdown",
      "source": [
        "### Build the deep Bi-LSTM model"
      ],
      "metadata": {
        "id": "7j1_cOHQJlsh"
      }
    },
    {
      "cell_type": "code",
      "source": [
        "def deep_bi_lstm_model(Tx, n_x, n_a):   \n",
        "    # Define the input layer and specify the shape\n",
        "    input = Input(shape=(Tx, n_x))\n",
        "    \n",
        "    # build LSTM frame with the time_step = Tx\n",
        "    x = Bidirectional(LSTM(n_a, return_sequences=True))(input)\n",
        "    all_state = Bidirectional(LSTM(n_a, return_sequences=True))(x)\n",
        "\n",
        "    # Create empty list to append the outputs while you iterate\n",
        "    outputs = []\n",
        "    \n",
        "    # Loop over tx\n",
        "    for t in range(Tx):\n",
        "        # Apply densor to the hidden state output of LSTM_Cell\n",
        "        out = Dense(1, activation='sigmoid')(all_state[:, t, :])\n",
        "        # add the output to \"outputs\"\n",
        "        outputs.append(out)\n",
        "        \n",
        "    # Create model instance\n",
        "    model = Model(inputs=input, outputs=outputs)\n",
        "    \n",
        "    return model"
      ],
      "metadata": {
        "id": "Rz6uWB6cGpXu"
      },
      "execution_count": 5,
      "outputs": []
    },
    {
      "cell_type": "markdown",
      "source": [
        "### Build the attention-based model"
      ],
      "metadata": {
        "id": "9dww3iFzJwFh"
      }
    },
    {
      "cell_type": "code",
      "source": [
        "def softmax(x, axis=1):\n",
        "    ndim = K.ndim(x)\n",
        "    if ndim == 2:\n",
        "        return K.softmax(x)\n",
        "    elif ndim > 2:\n",
        "        e = K.exp(x - K.max(x, axis=axis, keepdims=True))\n",
        "        s = K.sum(e, axis=axis, keepdims=True)\n",
        "        return e / s\n",
        "    else:\n",
        "        raise ValueError('Cannot apply softmax to a tensor that is 1D')\n",
        "\n",
        "def one_step_attention(a, s_prev):\n",
        "    # Use repeator to repeat s_prev to be of shape (m, Tx, n_s) so that you can concatenate it with all hidden states \"a\" \n",
        "    s_prev = RepeatVector(Tx)(s_prev)\n",
        "    # Use concatenator to concatenate a and s_prev on the last axis \n",
        "    # For grading purposes, please list 'a' first and 's_prev' second, in this order.\n",
        "    concat = Concatenate(axis=-1)([a, s_prev])\n",
        "    # Use densor1 to propagate concat through a small fully-connected neural network to compute the \"intermediate energies\" variable e. \n",
        "    e = Dense(8, activation = \"tanh\")(concat)\n",
        "    # Use densor2 to propagate e through a small fully-connected neural network to compute the \"energies\" variable energies. \n",
        "    energies = Dense(1, activation = \"relu\")(e)\n",
        "    # Use \"activator\" on \"energies\" to compute the attention weights \"alphas\" \n",
        "    alphas = Activation(softmax)(energies)\n",
        "    # Use dotor together with \"alphas\" and \"a\", in this order, to compute the context vector to be given to the next (post-attention) LSTM-cell\n",
        "    context = Dot(axes = 1)([alphas,a])\n",
        "    \n",
        "    return context\n",
        "\n",
        "\n",
        "def attention_model(Tx, n_a, n_s, n_x):\n",
        "    # Define the inputs of your model with a shape (Tx,)\n",
        "    # Define s0 (initial hidden state) and c0 (initial cell state) for the decoder LSTM with shape (n_s,)\n",
        "    X = Input(shape=(Tx, n_x))\n",
        "    s0 = Input(shape=(n_s,), name='s0')\n",
        "    c0 = Input(shape=(n_s,), name='c0')\n",
        "    s = s0\n",
        "    c = c0\n",
        "    \n",
        "    # Initialize empty list of outputs\n",
        "    outputs = []\n",
        "    \n",
        "    # Step 1: Define the encoder with Bi-LSTM. \n",
        "    a = Bidirectional(LSTM(units=n_a, return_sequences=True))(X)\n",
        "    \n",
        "    # Step 2: Define decoder iterating for Tx steps\n",
        "    for t in range(Tx):\n",
        "    \n",
        "        # Step 2.A: Perform one step of the attention mechanism to get back the context vector at step t \n",
        "        context = one_step_attention(a, s)\n",
        "        \n",
        "        # Step 2.B: Apply the post-attention LSTM cell to the \"context\" vector.\n",
        "        s, _, c = LSTM(n_s, return_state = True)(inputs=context, initial_state=[s, c])\n",
        "        \n",
        "        # Step 2.C: Apply Dense layer to the hidden state output of the post-attention LSTM \n",
        "        out = Dense(1, activation='sigmoid')(s)\n",
        "        \n",
        "        # Step 2.D: Append \"out\" to the \"outputs\" list \n",
        "        outputs.append(out)\n",
        "    \n",
        "    # Step 3: Create model instance taking three inputs and returning the list of outputs. \n",
        "    model = Model(inputs=[X,s0,c0], outputs=outputs)\n",
        "    \n",
        "    return model"
      ],
      "metadata": {
        "id": "QAe6p8RO7zEq"
      },
      "execution_count": 6,
      "outputs": []
    },
    {
      "cell_type": "markdown",
      "source": [
        "### Calculate evaluation metrics and draw plots"
      ],
      "metadata": {
        "id": "P243uwQ7J3hT"
      }
    },
    {
      "cell_type": "code",
      "source": [
        "def plot(LSTM_history):\n",
        "    plt.figure(figsize=(12, 7))\n",
        "    plt.title('Model Cross Entropy Loss')\n",
        "    plt.plot(LSTM_history.history['loss'], label='train')\n",
        "    plt.plot(LSTM_history.history['val_loss'], label='validation')\n",
        "    plt.xlabel('Epoch')\n",
        "    plt.ylabel('Loss')\n",
        "    plt.legend()\n",
        "    \n",
        "def multi_evaluation(X_test_1, X_test_2, test_df_1, test_df_2):\n",
        "    pred_1 = LSTM_model.predict(X_test_1)\n",
        "    pred_1 = np.array(pred_1).flatten('F').round()\n",
        "    pred_2 = LSTM_model.predict(X_test_2)\n",
        "    pred_2 = np.array(pred_2).flatten('F').round()\n",
        "    pred = np.concatenate((pred_1.reshape(-1,1), pred_2.reshape(-1,1)), axis=1)\n",
        "\n",
        "    y_true_1 = test_df_1.iloc[:,-1].to_numpy(dtype=int)\n",
        "    y_true_2 = test_df_2.iloc[:,-1].to_numpy(dtype=int)\n",
        "    y_true = np.concatenate((y_true_1.reshape(-1,1), y_true_2.reshape(-1,1)), axis=1)\n",
        "\n",
        "    accuracy = round(accuracy_score(y_true, pred), ndigits=4)\n",
        "    F1_score = round(f1_score(y_true, pred, average='weighted'), ndigits=4)\n",
        "    print('Accuracy on test dataset is:', accuracy)\n",
        "    print('F1-score on test dataset is:', F1_score)\n",
        "\n",
        "    T = (y_true==1).sum()\n",
        "    c = 0\n",
        "    for i in range(y_true.shape[0]):\n",
        "        if y_true[i][0]==0 and y_true[i][1]==0:\n",
        "            c+=pred[i][0]\n",
        "            c+=pred[i][1]\n",
        "    FA = round(c/T, ndigits=4)\n",
        "    print('FA is:',FA)\n",
        "\n",
        "    c = 0\n",
        "    for j in range(y_true.shape[0]):\n",
        "        if (y_true[j][0]+y_true[j][1]-pred[j][0]-pred[j][1])>0:\n",
        "            c+=(y_true[j][0]+y_true[j][1]-pred[j][0]-pred[j][1])\n",
        "    MISS = round(c/T, ndigits=4)\n",
        "    print('MISS is:',MISS)\n",
        "\n",
        "    DER = FA + MISS\n",
        "    print('DER is:', DER)\n",
        "\n",
        "    return accuracy, F1_score, FA, MISS, DER\n",
        "\n",
        "def single_acc(LSTM_history):\n",
        "    acc = [LSTM_history.history[i] for i in LSTM_history.history if i.endswith('accuracy') and i.startswith('val')]\n",
        "    single_accuracy = round(np.array(acc).mean(axis=0).max(), ndigits=4)\n",
        "    print('The average accuracy on validation dataset is:', single_accuracy)\n",
        "    return single_accuracy\n",
        "\n",
        "def plot_confusion_matrix(X_val, val_df):\n",
        "    pred = LSTM_model.predict(X_val)\n",
        "    pred = np.array(pred).flatten('F').round()\n",
        "    y_true = val_df.iloc[:,-1].to_numpy(dtype=int)\n",
        "    out = confusion_matrix(y_true, pred)\n",
        "\n",
        "    group_counts = [\"{0:0.0f}\".format(value) for value in out.flatten()]\n",
        "    group_percentages = [\"{0:.2%}\".format(value) for value in out.flatten()/np.sum(out)]\n",
        "    box_labels = [f\"{v1}\\n({v2})\" for v1, v2 in zip(group_counts, group_percentages)]\n",
        "    box_labels = np.asarray(box_labels).reshape(2,2)\n",
        "\n",
        "    plt.figure(figsize = (6,5))\n",
        "    sns.heatmap(out,xticklabels=['Not signing','Signing'], yticklabels=['Not signing','Signing'],\n",
        "            cmap=\"YlGnBu\", fmt=\"\", annot=box_labels)\n",
        "    plt.xlabel('Predicted Classes')\n",
        "    plt.ylabel('True Classes')\n",
        "    plt.show()"
      ],
      "metadata": {
        "id": "rrygf6QJwt2t"
      },
      "execution_count": 7,
      "outputs": []
    },
    {
      "cell_type": "markdown",
      "source": [
        "### Read and split processed data"
      ],
      "metadata": {
        "id": "jGGGmUxzKObY"
      }
    },
    {
      "cell_type": "code",
      "source": [
        "# Set some key parameters\n",
        "Tx = 60\n",
        "val_part = 8\n",
        "test_part = 9\n",
        "\n",
        "path_to_df = '/content/drive/MyDrive/thesis/clean_df_F/'\n",
        "file_paths = [os.path.join(path_to_df, df_csv) for df_csv in os.listdir(path_to_df)]\n",
        "train_df = pd.DataFrame()\n",
        "val_df = pd.DataFrame()\n",
        "test_df_1 = pd.DataFrame()\n",
        "test_df_2 = pd.DataFrame()\n",
        "for i in file_paths:\n",
        "    train_temp, val_temp, test_1_temp, test_2_temp = train_test_split(i, Tx, val_part, test_part)\n",
        "    if i.endswith('F.csv') or i.endswith('6.csv') or i.endswith('7.csv') or i.endswith('8.csv'):\n",
        "        train_df = pd.concat([train_df, train_temp], ignore_index = True)\n",
        "        print('Only use train_df, from:', i)\n",
        "    else:\n",
        "        train_df = pd.concat([train_df, train_temp], ignore_index = True)\n",
        "        val_df = pd.concat([val_df, val_temp], ignore_index = True)\n",
        "        test_df_1 = pd.concat([test_df_1, test_1_temp], ignore_index = True)\n",
        "        test_df_2 = pd.concat([test_df_2, test_2_temp], ignore_index = True)\n",
        "        print('Use train_df and val_df, from:', i)\n",
        "\n",
        "\n",
        "n_x = train_df.shape[1]-1\n",
        "# reshape the df into np.array for model input\n",
        "X_train = train_df.iloc[:,:-1].to_numpy().reshape((-1, Tx, n_x))\n",
        "y_train = train_df.iloc[:,-1].to_numpy(dtype='float32').reshape((Tx, -1, 1),order='f')\n",
        "\n",
        "X_val = val_df.iloc[:,:-1].to_numpy().reshape((-1, Tx, n_x))\n",
        "y_val = val_df.iloc[:,-1].to_numpy(dtype='float32').reshape((Tx, -1, 1),order='f')\n",
        "\n",
        "X_test_1 = test_df_1.iloc[:,:-1].to_numpy().reshape((-1, Tx, n_x))\n",
        "y_test_1 = test_df_1.iloc[:,-1].to_numpy(dtype='float32').reshape((Tx, -1, 1),order='f')\n",
        "\n",
        "X_test_2 = test_df_2.iloc[:,:-1].to_numpy().reshape((-1, Tx, n_x))\n",
        "y_test_2 = test_df_2.iloc[:,-1].to_numpy(dtype='float32').reshape((Tx, -1, 1),order='f')\n",
        "\n",
        "print('\\nX_train shape :', X_train.shape)\n",
        "print('X_val shape :', X_val.shape)\n",
        "print('X_test_1 shape:', X_test_1.shape)"
      ],
      "metadata": {
        "colab": {
          "base_uri": "https://localhost:8080/"
        },
        "id": "3QXmhLMRxVQb",
        "outputId": "530702f9-1a6c-41aa-ab0e-8d305e05db62"
      },
      "execution_count": 8,
      "outputs": [
        {
          "output_type": "stream",
          "name": "stdout",
          "text": [
            "\n",
            "train_df shape: (42240, 25)\n",
            "val_df shape: (5280, 25)\n",
            "test_df_1 shape: (2640, 25)\n",
            "Use train_df and val_df, from: /content/drive/MyDrive/thesis/clean_df_F/df_clean_PiKe.csv\n",
            "\n",
            "train_df shape: (37800, 25)\n",
            "val_df shape: (4680, 25)\n",
            "test_df_1 shape: (2340, 25)\n",
            "Use train_df and val_df, from: /content/drive/MyDrive/thesis/clean_df_F/df_clean_KN.csv\n",
            "\n",
            "train_df shape: (58560, 25)\n",
            "val_df shape: (7200, 25)\n",
            "test_df_1 shape: (3600, 25)\n",
            "Use train_df and val_df, from: /content/drive/MyDrive/thesis/clean_df_F/df_clean_ReKe.csv\n",
            "\n",
            "train_df shape: (59280, 25)\n",
            "val_df shape: (7320, 25)\n",
            "test_df_1 shape: (3660, 25)\n",
            "Use train_df and val_df, from: /content/drive/MyDrive/thesis/clean_df_F/df_clean_SuJu.csv\n",
            "\n",
            "train_df shape: (59280, 25)\n",
            "val_df shape: (7320, 25)\n",
            "test_df_1 shape: (3660, 25)\n",
            "Only use train_df, from: /content/drive/MyDrive/thesis/clean_df_F/df_clean_SuJu_F.csv\n",
            "\n",
            "train_df shape: (58560, 25)\n",
            "val_df shape: (7200, 25)\n",
            "test_df_1 shape: (3600, 25)\n",
            "Only use train_df, from: /content/drive/MyDrive/thesis/clean_df_F/df_clean_ReKe_F.csv\n",
            "\n",
            "train_df shape: (37800, 25)\n",
            "val_df shape: (4680, 25)\n",
            "test_df_1 shape: (2340, 25)\n",
            "Only use train_df, from: /content/drive/MyDrive/thesis/clean_df_F/df_clean_KN_F.csv\n",
            "\n",
            "train_df shape: (42240, 25)\n",
            "val_df shape: (5280, 25)\n",
            "test_df_1 shape: (2640, 25)\n",
            "Only use train_df, from: /content/drive/MyDrive/thesis/clean_df_F/df_clean_PiKe_F.csv\n",
            "\n",
            "X_train shape : (6596, 60, 24)\n",
            "X_val shape : (408, 60, 24)\n",
            "X_test_1 shape: (204, 60, 24)\n"
          ]
        }
      ]
    },
    {
      "cell_type": "markdown",
      "source": [
        "### Train the basic LSTM and deep Bi-LSTM models"
      ],
      "metadata": {
        "id": "Cgvp3aKENK_J"
      }
    },
    {
      "cell_type": "code",
      "source": [
        "n_a = 16\n",
        "# LSTM_model = deep_bi_lstm_model(Tx, n_x, n_a)\n",
        "LSTM_model = base_model(Tx, n_x, n_a)\n",
        "\n",
        "LSTM_model.compile(optimizer=Adam(learning_rate=0.003), loss='binary_crossentropy', metrics=['accuracy'])\n",
        "early_stopping = EarlyStopping(monitor='val_loss', patience=8, verbose=0, mode='min', restore_best_weights=True)\n",
        "LSTM_history = LSTM_model.fit(X_train, list(y_train), epochs=50, batch_size=64, verbose=0, \n",
        "                              validation_data=(X_val,list(y_val)), callbacks=[early_stopping])\n",
        "\n",
        "# single evaluation\n",
        "single_acc(LSTM_history)\n",
        "multi_evaluation(X_test_1, X_test_2, test_df_1, test_df_2)\n",
        "plot(LSTM_history)\n",
        "plot_confusion_matrix(X_val, val_df)"
      ],
      "metadata": {
        "colab": {
          "base_uri": "https://localhost:8080/",
          "height": 936
        },
        "id": "g2ziUwnTxYit",
        "outputId": "35ea5ed4-bd17-4845-cd79-d3407ce44043"
      },
      "execution_count": 11,
      "outputs": [
        {
          "output_type": "stream",
          "name": "stdout",
          "text": [
            "The average accuracy on validation dataset is: 0.7753\n",
            "7/7 [==============================] - 1s 12ms/step\n",
            "7/7 [==============================] - 0s 11ms/step\n",
            "Accuracy on test dataset is: 0.6337\n",
            "F1-score on test dataset is: 0.7424\n",
            "FA is: 0.276\n",
            "MISS is: 0.1647\n",
            "DER is: 0.44070000000000004\n",
            "13/13 [==============================] - 0s 11ms/step\n"
          ]
        },
        {
          "output_type": "display_data",
          "data": {
            "text/plain": [
              "<Figure size 864x504 with 1 Axes>"
            ],
            "image/png": "[encoded data removed]"
          },
          "metadata": {
            "needs_background": "light"
          }
        },
        {
          "output_type": "display_data",
          "data": {
            "text/plain": [
              "<Figure size 432x360 with 2 Axes>"
            ],
            "image/png": "[encoded data removed]"
          },
          "metadata": {
            "needs_background": "light"
          }
        }
      ]
    },
    {
      "cell_type": "markdown",
      "source": [
        "### Train the attention-based model"
      ],
      "metadata": {
        "id": "MriaBsMvNXg9"
      }
    },
    {
      "cell_type": "code",
      "source": [
        "n_a = 32\n",
        "n_s = 16\n",
        "m = X_train.shape[0]\n",
        "s0 = np.zeros((m, n_s))\n",
        "c0 = np.zeros((m, n_s))\n",
        "\n",
        "m_val = X_val.shape[0]\n",
        "s0_val = np.zeros((m_val, n_s))\n",
        "c0_val = np.zeros((m_val, n_s))\n",
        "\n",
        "LSTM_model = attention_model(Tx, n_a, n_s, n_x)\n",
        "LSTM_model.compile(optimizer=Adam(learning_rate=0.003), loss='binary_crossentropy', metrics=['accuracy'])\n",
        "early_stopping = EarlyStopping(monitor='val_loss', patience=8, verbose=0, mode='min', restore_best_weights=True)\n",
        "LSTM_history = LSTM_model.fit([X_train, s0, c0], list(y_train), epochs=50, batch_size=64, \n",
        "                              validation_data=([X_val, s0_val, c0_val],list(y_val)), callbacks=[early_stopping])\n",
        "\n",
        "# multi evaluation\n",
        "m_test = X_test_1.shape[0]\n",
        "s0_test = np.zeros((m_test, n_s))\n",
        "c0_test = np.zeros((m_test, n_s))\n",
        "\n",
        "single_acc(LSTM_history)\n",
        "multi_evaluation([X_test_1, s0_test, c0_test], [X_test_2, s0_test, c0_test], test_df_1, test_df_2)\n",
        "plot(LSTM_history)\n",
        "plot_confusion_matrix([X_val, s0_val, c0_val], val_df)"
      ],
      "metadata": {
        "id": "niOvd56VGj0W"
      },
      "execution_count": null,
      "outputs": []
    }
  ]
}